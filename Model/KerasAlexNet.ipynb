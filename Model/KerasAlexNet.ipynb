{
 "cells": [
  {
   "cell_type": "code",
   "execution_count": 23,
   "metadata": {},
   "outputs": [],
   "source": [
    "import pandas as pd\n",
    "import numpy as np\n",
    "import os\n",
    "import keras\n",
    "import sys\n",
    "\n",
    "import matplotlib.pyplot as plt\n",
    "%matplotlib inline\n",
    "\n",
    "\n",
    "from PIL import Image\n",
    "from tqdm import tqdm\n",
    "from sklearn.model_selection import train_test_split\n",
    "from keras.preprocessing.image import ImageDataGenerator\n",
    "from keras.models import Sequential\n",
    "from keras.layers.core import Activation, Flatten\n",
    "from keras.layers import Conv2D,Dense, Dropout\n",
    "from keras.layers.convolutional import MaxPooling2D\n",
    "from keras.optimizers import SGD\n",
    "from keras.callbacks import Callback, ModelCheckpoint"
   ]
  },
  {
   "cell_type": "code",
   "execution_count": 2,
   "metadata": {},
   "outputs": [],
   "source": [
    "data = pd.read_csv('../input/diabetic-retinopathy-detection/trainLabels.csv')"
   ]
  },
  {
   "cell_type": "code",
   "execution_count": 3,
   "metadata": {},
   "outputs": [
    {
     "data": {
      "text/html": [
       "<div>\n",
       "<style scoped>\n",
       "    .dataframe tbody tr th:only-of-type {\n",
       "        vertical-align: middle;\n",
       "    }\n",
       "\n",
       "    .dataframe tbody tr th {\n",
       "        vertical-align: top;\n",
       "    }\n",
       "\n",
       "    .dataframe thead th {\n",
       "        text-align: right;\n",
       "    }\n",
       "</style>\n",
       "<table border=\"1\" class=\"dataframe\">\n",
       "  <thead>\n",
       "    <tr style=\"text-align: right;\">\n",
       "      <th></th>\n",
       "      <th>image</th>\n",
       "      <th>level</th>\n",
       "    </tr>\n",
       "  </thead>\n",
       "  <tbody>\n",
       "    <tr>\n",
       "      <th>0</th>\n",
       "      <td>10_left</td>\n",
       "      <td>0</td>\n",
       "    </tr>\n",
       "    <tr>\n",
       "      <th>1</th>\n",
       "      <td>10_right</td>\n",
       "      <td>0</td>\n",
       "    </tr>\n",
       "    <tr>\n",
       "      <th>2</th>\n",
       "      <td>13_left</td>\n",
       "      <td>0</td>\n",
       "    </tr>\n",
       "    <tr>\n",
       "      <th>3</th>\n",
       "      <td>13_right</td>\n",
       "      <td>0</td>\n",
       "    </tr>\n",
       "    <tr>\n",
       "      <th>4</th>\n",
       "      <td>15_left</td>\n",
       "      <td>1</td>\n",
       "    </tr>\n",
       "  </tbody>\n",
       "</table>\n",
       "</div>"
      ],
      "text/plain": [
       "      image  level\n",
       "0   10_left      0\n",
       "1  10_right      0\n",
       "2   13_left      0\n",
       "3  13_right      0\n",
       "4   15_left      1"
      ]
     },
     "execution_count": 3,
     "metadata": {},
     "output_type": "execute_result"
    }
   ],
   "source": [
    "data.head()"
   ]
  },
  {
   "cell_type": "code",
   "execution_count": 4,
   "metadata": {},
   "outputs": [
    {
     "data": {
      "text/plain": [
       "array([[<matplotlib.axes._subplots.AxesSubplot object at 0x7efd5c84d160>]],\n",
       "      dtype=object)"
      ]
     },
     "execution_count": 4,
     "metadata": {},
     "output_type": "execute_result"
    },
    {
     "data": {
      "image/png": "[encoded data removed]",
      "text/plain": [
       "<Figure size 720x360 with 1 Axes>"
      ]
     },
     "metadata": {},
     "output_type": "display_data"
    }
   ],
   "source": [
    "data[['level']].hist(figsize=(10,5),density=True)"
   ]
  },
  {
   "cell_type": "code",
   "execution_count": 5,
   "metadata": {},
   "outputs": [
    {
     "data": {
      "text/plain": [
       "0    0.734783\n",
       "2    0.150658\n",
       "1    0.069550\n",
       "3    0.024853\n",
       "4    0.020156\n",
       "Name: level, dtype: float64"
      ]
     },
     "execution_count": 5,
     "metadata": {},
     "output_type": "execute_result"
    }
   ],
   "source": [
    "data.level.value_counts(normalize=True)"
   ]
  },
  {
   "cell_type": "code",
   "execution_count": 7,
   "metadata": {},
   "outputs": [],
   "source": [
    "def check(x):\n",
    "    tr = os.path.join('../input/train/','{}.jpeg'.format(x))\n",
    "    te = os.path.join('../input/validation/','{}.jpeg'.format(x))\n",
    "    if tr or te:\n",
    "        return True"
   ]
  },
  {
   "cell_type": "code",
   "execution_count": 8,
   "metadata": {},
   "outputs": [],
   "source": [
    "data['exist'] = data.image.map(lambda x: check(x))"
   ]
  },
  {
   "cell_type": "code",
   "execution_count": 9,
   "metadata": {},
   "outputs": [
    {
     "data": {
      "text/html": [
       "<div>\n",
       "<style scoped>\n",
       "    .dataframe tbody tr th:only-of-type {\n",
       "        vertical-align: middle;\n",
       "    }\n",
       "\n",
       "    .dataframe tbody tr th {\n",
       "        vertical-align: top;\n",
       "    }\n",
       "\n",
       "    .dataframe thead th {\n",
       "        text-align: right;\n",
       "    }\n",
       "</style>\n",
       "<table border=\"1\" class=\"dataframe\">\n",
       "  <thead>\n",
       "    <tr style=\"text-align: right;\">\n",
       "      <th></th>\n",
       "      <th>image</th>\n",
       "      <th>level</th>\n",
       "      <th>exist</th>\n",
       "    </tr>\n",
       "  </thead>\n",
       "  <tbody>\n",
       "    <tr>\n",
       "      <th>0</th>\n",
       "      <td>10_left</td>\n",
       "      <td>0</td>\n",
       "      <td>True</td>\n",
       "    </tr>\n",
       "    <tr>\n",
       "      <th>1</th>\n",
       "      <td>10_right</td>\n",
       "      <td>0</td>\n",
       "      <td>True</td>\n",
       "    </tr>\n",
       "    <tr>\n",
       "      <th>2</th>\n",
       "      <td>13_left</td>\n",
       "      <td>0</td>\n",
       "      <td>True</td>\n",
       "    </tr>\n",
       "    <tr>\n",
       "      <th>3</th>\n",
       "      <td>13_right</td>\n",
       "      <td>0</td>\n",
       "      <td>True</td>\n",
       "    </tr>\n",
       "    <tr>\n",
       "      <th>4</th>\n",
       "      <td>15_left</td>\n",
       "      <td>1</td>\n",
       "      <td>True</td>\n",
       "    </tr>\n",
       "  </tbody>\n",
       "</table>\n",
       "</div>"
      ],
      "text/plain": [
       "      image  level  exist\n",
       "0   10_left      0   True\n",
       "1  10_right      0   True\n",
       "2   13_left      0   True\n",
       "3  13_right      0   True\n",
       "4   15_left      1   True"
      ]
     },
     "execution_count": 9,
     "metadata": {},
     "output_type": "execute_result"
    }
   ],
   "source": [
    "data.head()"
   ]
  },
  {
   "cell_type": "code",
   "execution_count": 10,
   "metadata": {},
   "outputs": [
    {
     "name": "stdout",
     "output_type": "stream",
     "text": [
      "Exists 35126 of 35126\n"
     ]
    }
   ],
   "source": [
    "print('Exists', data.exist.sum(),'of',data.shape[0])"
   ]
  },
  {
   "cell_type": "code",
   "execution_count": 11,
   "metadata": {},
   "outputs": [
    {
     "name": "stdout",
     "output_type": "stream",
     "text": [
      "4.4.0\n"
     ]
    }
   ],
   "source": [
    "!jupyter --version"
   ]
  },
  {
   "cell_type": "markdown",
   "metadata": {},
   "source": [
    "# Train/Valid split"
   ]
  },
  {
   "cell_type": "code",
   "execution_count": 26,
   "metadata": {},
   "outputs": [],
   "source": [
    "for_iloc = np.arange(0,data.shape[0])\n",
    "X_train, X_valid = train_test_split(for_iloc, test_size=0.1)"
   ]
  },
  {
   "cell_type": "code",
   "execution_count": 27,
   "metadata": {},
   "outputs": [],
   "source": [
    "X_train = data.iloc[X_train]\n",
    "X_valid = data.iloc[X_valid]"
   ]
  },
  {
   "cell_type": "code",
   "execution_count": 28,
   "metadata": {},
   "outputs": [
    {
     "data": {
      "text/plain": [
       "0    0.734381\n",
       "2    0.151425\n",
       "1    0.069623\n",
       "3    0.024642\n",
       "4    0.019929\n",
       "Name: level, dtype: float64"
      ]
     },
     "execution_count": 28,
     "metadata": {},
     "output_type": "execute_result"
    }
   ],
   "source": [
    "X_train.level.value_counts(normalize=True)"
   ]
  },
  {
   "cell_type": "code",
   "execution_count": 29,
   "metadata": {},
   "outputs": [
    {
     "data": {
      "text/plain": [
       "0    0.738400\n",
       "2    0.143752\n",
       "1    0.068887\n",
       "3    0.026758\n",
       "4    0.022203\n",
       "Name: level, dtype: float64"
      ]
     },
     "execution_count": 29,
     "metadata": {},
     "output_type": "execute_result"
    }
   ],
   "source": [
    "X_valid.level.value_counts(normalize=True)"
   ]
  },
  {
   "cell_type": "code",
   "execution_count": 108,
   "metadata": {},
   "outputs": [],
   "source": [
    "#создадим папки под обучающую и валид выборку\n",
    "!mkdir ../input/train\n",
    "!mkdir ../input/validation"
   ]
  },
  {
   "cell_type": "code",
   "execution_count": 27,
   "metadata": {},
   "outputs": [
    {
     "name": "stdout",
     "output_type": "stream",
     "text": [
      "mv: не удалось выполнить stat для '../input/diabetic-retinopathy-detection/23432_left.jpeg': Нет такого файла или каталога\n",
      "mv: не удалось выполнить stat для '../input/diabetic-retinopathy-detection/13765_left.jpeg': Нет такого файла или каталога\n",
      "mv: не удалось выполнить stat для '../input/diabetic-retinopathy-detection/9237_right.jpeg': Нет такого файла или каталога\n",
      "mv: не удалось выполнить stat для '../input/diabetic-retinopathy-detection/11041_left.jpeg': Нет такого файла или каталога\n",
      "mv: не удалось выполнить stat для '../input/diabetic-retinopathy-detection/10791_right.jpeg': Нет такого файла или каталога\n",
      "mv: не удалось выполнить stat для '../input/diabetic-retinopathy-detection/4197_right.jpeg': Нет такого файла или каталога\n",
      "mv: не удалось выполнить stat для '../input/diabetic-retinopathy-detection/41215_right.jpeg': Нет такого файла или каталога\n",
      "mv: не удалось выполнить stat для '../input/diabetic-retinopathy-detection/40601_right.jpeg': Нет такого файла или каталога\n",
      "mv: не удалось выполнить stat для '../input/diabetic-retinopathy-detection/16808_right.jpeg': Нет такого файла или каталога\n",
      "mv: не удалось выполнить stat для '../input/diabetic-retinopathy-detection/35281_left.jpeg': Нет такого файла или каталога\n",
      "mv: не удалось выполнить stat для '../input/diabetic-retinopathy-detection/16825_right.jpeg': Нет такого файла или каталога\n",
      "mv: не удалось выполнить stat для '../input/diabetic-retinopathy-detection/31011_right.jpeg': Нет такого файла или каталога\n",
      "mv: не удалось выполнить stat для '../input/diabetic-retinopathy-detection/25670_left.jpeg': Нет такого файла или каталога\n",
      "mv: не удалось выполнить stat для '../input/diabetic-retinopathy-detection/1959_left.jpeg': Нет такого файла или каталога\n",
      "mv: не удалось выполнить stat для '../input/diabetic-retinopathy-detection/20780_left.jpeg': Нет такого файла или каталога\n",
      "mv: не удалось выполнить stat для '../input/diabetic-retinopathy-detection/42587_right.jpeg': Нет такого файла или каталога\n",
      "mv: не удалось выполнить stat для '../input/diabetic-retinopathy-detection/1357_left.jpeg': Нет такого файла или каталога\n",
      "mv: не удалось выполнить stat для '../input/diabetic-retinopathy-detection/3413_left.jpeg': Нет такого файла или каталога\n",
      "mv: не удалось выполнить stat для '../input/diabetic-retinopathy-detection/22176_left.jpeg': Нет такого файла или каталога\n",
      "mv: не удалось выполнить stat для '../input/diabetic-retinopathy-detection/43699_left.jpeg': Нет такого файла или каталога\n",
      "mv: не удалось выполнить stat для '../input/diabetic-retinopathy-detection/29823_left.jpeg': Нет такого файла или каталога\n",
      "mv: не удалось выполнить stat для '../input/diabetic-retinopathy-detection/12941_right.jpeg': Нет такого файла или каталога\n",
      "mv: не удалось выполнить stat для '../input/diabetic-retinopathy-detection/40036_right.jpeg': Нет такого файла или каталога\n",
      "mv: не удалось выполнить stat для '../input/diabetic-retinopathy-detection/10421_left.jpeg': Нет такого файла или каталога\n",
      "mv: не удалось выполнить stat для '../input/diabetic-retinopathy-detection/8263_right.jpeg': Нет такого файла или каталога\n",
      "mv: не удалось выполнить stat для '../input/diabetic-retinopathy-detection/25669_right.jpeg': Нет такого файла или каталога\n",
      "mv: не удалось выполнить stat для '../input/diabetic-retinopathy-detection/32001_right.jpeg': Нет такого файла или каталога\n",
      "mv: не удалось выполнить stat для '../input/diabetic-retinopathy-detection/36223_left.jpeg': Нет такого файла или каталога\n",
      "mv: не удалось выполнить stat для '../input/diabetic-retinopathy-detection/25008_left.jpeg': Нет такого файла или каталога\n",
      "mv: не удалось выполнить stat для '../input/diabetic-retinopathy-detection/40316_right.jpeg': Нет такого файла или каталога\n",
      "mv: не удалось выполнить stat для '../input/diabetic-retinopathy-detection/10567_left.jpeg': Нет такого файла или каталога\n",
      "mv: не удалось выполнить stat для '../input/diabetic-retinopathy-detection/21999_right.jpeg': Нет такого файла или каталога\n",
      "mv: не удалось выполнить stat для '../input/diabetic-retinopathy-detection/3660_right.jpeg': Нет такого файла или каталога\n",
      "mv: не удалось выполнить stat для '../input/diabetic-retinopathy-detection/11786_right.jpeg': Нет такого файла или каталога\n",
      "mv: не удалось выполнить stat для '../input/diabetic-retinopathy-detection/34780_left.jpeg': Нет такого файла или каталога\n",
      "mv: не удалось выполнить stat для '../input/diabetic-retinopathy-detection/5791_left.jpeg': Нет такого файла или каталога\n",
      "mv: не удалось выполнить stat для '../input/diabetic-retinopathy-detection/14200_right.jpeg': Нет такого файла или каталога\n",
      "mv: не удалось выполнить stat для '../input/diabetic-retinopathy-detection/6823_left.jpeg': Нет такого файла или каталога\n",
      "mv: не удалось выполнить stat для '../input/diabetic-retinopathy-detection/2887_left.jpeg': Нет такого файла или каталога\n",
      "mv: не удалось выполнить stat для '../input/diabetic-retinopathy-detection/44204_left.jpeg': Нет такого файла или каталога\n",
      "mv: не удалось выполнить stat для '../input/diabetic-retinopathy-detection/6817_left.jpeg': Нет такого файла или каталога\n",
      "mv: не удалось выполнить stat для '../input/diabetic-retinopathy-detection/23325_left.jpeg': Нет такого файла или каталога\n",
      "mv: не удалось выполнить stat для '../input/diabetic-retinopathy-detection/40110_left.jpeg': Нет такого файла или каталога\n",
      "mv: не удалось выполнить stat для '../input/diabetic-retinopathy-detection/11896_right.jpeg': Нет такого файла или каталога\n",
      "mv: не удалось выполнить stat для '../input/diabetic-retinopathy-detection/24989_right.jpeg': Нет такого файла или каталога\n",
      "mv: не удалось выполнить stat для '../input/diabetic-retinopathy-detection/27541_right.jpeg': Нет такого файла или каталога\n",
      "mv: не удалось выполнить stat для '../input/diabetic-retinopathy-detection/43493_left.jpeg': Нет такого файла или каталога\n",
      "mv: не удалось выполнить stat для '../input/diabetic-retinopathy-detection/33325_right.jpeg': Нет такого файла или каталога\n",
      "mv: не удалось выполнить stat для '../input/diabetic-retinopathy-detection/6739_left.jpeg': Нет такого файла или каталога\n",
      "mv: не удалось выполнить stat для '../input/diabetic-retinopathy-detection/19127_left.jpeg': Нет такого файла или каталога\n",
      "mv: не удалось выполнить stat для '../input/diabetic-retinopathy-detection/32929_left.jpeg': Нет такого файла или каталога\n",
      "mv: не удалось выполнить stat для '../input/diabetic-retinopathy-detection/30112_right.jpeg': Нет такого файла или каталога\n",
      "mv: не удалось выполнить stat для '../input/diabetic-retinopathy-detection/21483_left.jpeg': Нет такого файла или каталога\n",
      "mv: не удалось выполнить stat для '../input/diabetic-retinopathy-detection/9849_left.jpeg': Нет такого файла или каталога\n",
      "mv: не удалось выполнить stat для '../input/diabetic-retinopathy-detection/32483_right.jpeg': Нет такого файла или каталога\n",
      "mv: не удалось выполнить stat для '../input/diabetic-retinopathy-detection/15162_right.jpeg': Нет такого файла или каталога\n",
      "mv: не удалось выполнить stat для '../input/diabetic-retinopathy-detection/2693_left.jpeg': Нет такого файла или каталога\n",
      "mv: не удалось выполнить stat для '../input/diabetic-retinopathy-detection/30741_left.jpeg': Нет такого файла или каталога\n",
      "mv: не удалось выполнить stat для '../input/diabetic-retinopathy-detection/30973_right.jpeg': Нет такого файла или каталога\n",
      "mv: не удалось выполнить stat для '../input/diabetic-retinopathy-detection/14368_right.jpeg': Нет такого файла или каталога\n",
      "mv: не удалось выполнить stat для '../input/diabetic-retinopathy-detection/33916_right.jpeg': Нет такого файла или каталога\n",
      "mv: не удалось выполнить stat для '../input/diabetic-retinopathy-detection/25477_right.jpeg': Нет такого файла или каталога\n",
      "mv: не удалось выполнить stat для '../input/diabetic-retinopathy-detection/31196_left.jpeg': Нет такого файла или каталога\n",
      "mv: не удалось выполнить stat для '../input/diabetic-retinopathy-detection/29618_left.jpeg': Нет такого файла или каталога\n",
      "mv: не удалось выполнить stat для '../input/diabetic-retinopathy-detection/24583_right.jpeg': Нет такого файла или каталога\n",
      "mv: не удалось выполнить stat для '../input/diabetic-retinopathy-detection/15627_left.jpeg': Нет такого файла или каталога\n",
      "mv: не удалось выполнить stat для '../input/diabetic-retinopathy-detection/25878_left.jpeg': Нет такого файла или каталога\n",
      "mv: не удалось выполнить stat для '../input/diabetic-retinopathy-detection/13768_right.jpeg': Нет такого файла или каталога\n",
      "mv: не удалось выполнить stat для '../input/diabetic-retinopathy-detection/28573_left.jpeg': Нет такого файла или каталога\n",
      "mv: не удалось выполнить stat для '../input/diabetic-retinopathy-detection/2802_left.jpeg': Нет такого файла или каталога\n",
      "mv: не удалось выполнить stat для '../input/diabetic-retinopathy-detection/639_left.jpeg': Нет такого файла или каталога\n",
      "mv: не удалось выполнить stat для '../input/diabetic-retinopathy-detection/15602_left.jpeg': Нет такого файла или каталога\n",
      "mv: не удалось выполнить stat для '../input/diabetic-retinopathy-detection/3241_left.jpeg': Нет такого файла или каталога\n",
      "mv: не удалось выполнить stat для '../input/diabetic-retinopathy-detection/18176_right.jpeg': Нет такого файла или каталога\n",
      "mv: не удалось выполнить stat для '../input/diabetic-retinopathy-detection/21180_right.jpeg': Нет такого файла или каталога\n",
      "mv: не удалось выполнить stat для '../input/diabetic-retinopathy-detection/12231_right.jpeg': Нет такого файла или каталога\n",
      "mv: не удалось выполнить stat для '../input/diabetic-retinopathy-detection/11026_left.jpeg': Нет такого файла или каталога\n",
      "mv: не удалось выполнить stat для '../input/diabetic-retinopathy-detection/3832_right.jpeg': Нет такого файла или каталога\n",
      "mv: не удалось выполнить stat для '../input/diabetic-retinopathy-detection/36495_left.jpeg': Нет такого файла или каталога\n",
      "mv: не удалось выполнить stat для '../input/diabetic-retinopathy-detection/27324_right.jpeg': Нет такого файла или каталога\n",
      "mv: не удалось выполнить stat для '../input/diabetic-retinopathy-detection/21445_left.jpeg': Нет такого файла или каталога\n",
      "mv: не удалось выполнить stat для '../input/diabetic-retinopathy-detection/26536_left.jpeg': Нет такого файла или каталога\n",
      "mv: не удалось выполнить stat для '../input/diabetic-retinopathy-detection/5423_right.jpeg': Нет такого файла или каталога\n",
      "mv: не удалось выполнить stat для '../input/diabetic-retinopathy-detection/15001_left.jpeg': Нет такого файла или каталога\n",
      "mv: не удалось выполнить stat для '../input/diabetic-retinopathy-detection/31978_right.jpeg': Нет такого файла или каталога\n",
      "mv: не удалось выполнить stat для '../input/diabetic-retinopathy-detection/8403_right.jpeg': Нет такого файла или каталога\n",
      "mv: не удалось выполнить stat для '../input/diabetic-retinopathy-detection/8236_left.jpeg': Нет такого файла или каталога\n",
      "mv: не удалось выполнить stat для '../input/diabetic-retinopathy-detection/21021_right.jpeg': Нет такого файла или каталога\n",
      "mv: не удалось выполнить stat для '../input/diabetic-retinopathy-detection/802_left.jpeg': Нет такого файла или каталога\n",
      "mv: не удалось выполнить stat для '../input/diabetic-retinopathy-detection/7463_right.jpeg': Нет такого файла или каталога\n",
      "mv: не удалось выполнить stat для '../input/diabetic-retinopathy-detection/4227_left.jpeg': Нет такого файла или каталога\n",
      "mv: не удалось выполнить stat для '../input/diabetic-retinopathy-detection/34057_right.jpeg': Нет такого файла или каталога\n",
      "mv: не удалось выполнить stat для '../input/diabetic-retinopathy-detection/17222_right.jpeg': Нет такого файла или каталога\n",
      "mv: не удалось выполнить stat для '../input/diabetic-retinopathy-detection/41877_left.jpeg': Нет такого файла или каталога\n",
      "mv: не удалось выполнить stat для '../input/diabetic-retinopathy-detection/20321_right.jpeg': Нет такого файла или каталога\n",
      "mv: не удалось выполнить stat для '../input/diabetic-retinopathy-detection/19576_left.jpeg': Нет такого файла или каталога\n",
      "mv: не удалось выполнить stat для '../input/diabetic-retinopathy-detection/6085_left.jpeg': Нет такого файла или каталога\n",
      "mv: не удалось выполнить stat для '../input/diabetic-retinopathy-detection/33424_left.jpeg': Нет такого файла или каталога\n",
      "mv: не удалось выполнить stat для '../input/diabetic-retinopathy-detection/12662_right.jpeg': Нет такого файла или каталога\n",
      "mv: не удалось выполнить stat для '../input/diabetic-retinopathy-detection/16585_left.jpeg': Нет такого файла или каталога\n",
      "mv: не удалось выполнить stat для '../input/diabetic-retinopathy-detection/8096_left.jpeg': Нет такого файла или каталога\n",
      "mv: не удалось выполнить stat для '../input/diabetic-retinopathy-detection/25009_right.jpeg': Нет такого файла или каталога\n",
      "mv: не удалось выполнить stat для '../input/diabetic-retinopathy-detection/30077_left.jpeg': Нет такого файла или каталога\n",
      "mv: не удалось выполнить stat для '../input/diabetic-retinopathy-detection/35712_right.jpeg': Нет такого файла или каталога\n",
      "mv: не удалось выполнить stat для '../input/diabetic-retinopathy-detection/39387_right.jpeg': Нет такого файла или каталога\n",
      "mv: не удалось выполнить stat для '../input/diabetic-retinopathy-detection/16848_right.jpeg': Нет такого файла или каталога\n",
      "mv: не удалось выполнить stat для '../input/diabetic-retinopathy-detection/9189_right.jpeg': Нет такого файла или каталога\n",
      "mv: не удалось выполнить stat для '../input/diabetic-retinopathy-detection/11370_left.jpeg': Нет такого файла или каталога\n",
      "mv: не удалось выполнить stat для '../input/diabetic-retinopathy-detection/33901_right.jpeg': Нет такого файла или каталога\n",
      "mv: не удалось выполнить stat для '../input/diabetic-retinopathy-detection/40855_right.jpeg': Нет такого файла или каталога\n",
      "mv: не удалось выполнить stat для '../input/diabetic-retinopathy-detection/18728_left.jpeg': Нет такого файла или каталога\n",
      "mv: не удалось выполнить stat для '../input/diabetic-retinopathy-detection/4437_right.jpeg': Нет такого файла или каталога\n",
      "mv: не удалось выполнить stat для '../input/diabetic-retinopathy-detection/15857_left.jpeg': Нет такого файла или каталога\n",
      "mv: не удалось выполнить stat для '../input/diabetic-retinopathy-detection/30118_left.jpeg': Нет такого файла или каталога\n",
      "mv: не удалось выполнить stat для '../input/diabetic-retinopathy-detection/33983_left.jpeg': Нет такого файла или каталога\n",
      "mv: не удалось выполнить stat для '../input/diabetic-retinopathy-detection/15118_right.jpeg': Нет такого файла или каталога\n",
      "mv: не удалось выполнить stat для '../input/diabetic-retinopathy-detection/44096_left.jpeg': Нет такого файла или каталога\n",
      "mv: не удалось выполнить stat для '../input/diabetic-retinopathy-detection/32727_left.jpeg': Нет такого файла или каталога\n",
      "mv: не удалось выполнить stat для '../input/diabetic-retinopathy-detection/13388_right.jpeg': Нет такого файла или каталога\n",
      "mv: не удалось выполнить stat для '../input/diabetic-retinopathy-detection/19266_left.jpeg': Нет такого файла или каталога\n",
      "mv: не удалось выполнить stat для '../input/diabetic-retinopathy-detection/42114_left.jpeg': Нет такого файла или каталога\n",
      "mv: не удалось выполнить stat для '../input/diabetic-retinopathy-detection/22194_right.jpeg': Нет такого файла или каталога\n",
      "mv: не удалось выполнить stat для '../input/diabetic-retinopathy-detection/42724_right.jpeg': Нет такого файла или каталога\n",
      "mv: не удалось выполнить stat для '../input/diabetic-retinopathy-detection/27627_right.jpeg': Нет такого файла или каталога\n"
     ]
    }
   ],
   "source": [
    "for x in X_train.values:\n",
    "    froom = '../input/diabetic-retinopathy-detection/' + x[0] + '.jpeg'\n",
    "    too = '../input/train/' + x[0] + '.jpeg'\n",
    "    !mv $froom $too"
   ]
  },
  {
   "cell_type": "code",
   "execution_count": 28,
   "metadata": {},
   "outputs": [],
   "source": [
    "for x in X_valid.values:\n",
    "    froom = '../input/diabetic-retinopathy-detection/' + x[0] + '.jpeg'\n",
    "    too = '../input/validation/' + x[0] + '.jpeg'\n",
    "    !mv $froom $too"
   ]
  },
  {
   "cell_type": "code",
   "execution_count": 42,
   "metadata": {},
   "outputs": [],
   "source": [
    "!mkdir ../input/train/0\n",
    "!mkdir ../input/train/1\n",
    "!mkdir ../input/train/2\n",
    "!mkdir ../input/train/3\n",
    "!mkdir ../input/train/4"
   ]
  },
  {
   "cell_type": "code",
   "execution_count": 43,
   "metadata": {},
   "outputs": [],
   "source": [
    "for x in X_train.values:\n",
    "    if x[1] == 0:\n",
    "        froom = '../input/train/' + x[0] + '.jpeg'\n",
    "        too = '../input/train/0/' + x[0] + '.jpeg'\n",
    "        !mv $froom $too\n",
    "    elif x[1] == 1:\n",
    "        froom = '../input/train/' + x[0] + '.jpeg'\n",
    "        too = '../input/train/1/' + x[0] + '.jpeg'\n",
    "        !mv $froom $too\n",
    "    elif x[1] == 2:\n",
    "        froom = '../input/train/' + x[0] + '.jpeg'\n",
    "        too = '../input/train/2/' + x[0] + '.jpeg'\n",
    "        !mv $froom $too\n",
    "    elif x[1] == 3:\n",
    "        froom = '../input/train/' + x[0] + '.jpeg'\n",
    "        too = '../input/train/3/' + x[0] + '.jpeg'\n",
    "        !mv $froom $too\n",
    "    else:\n",
    "        froom = '../input/train/' + x[0] + '.jpeg'\n",
    "        too = '../input/train/4/' + x[0] + '.jpeg'\n",
    "        !mv $froom $too"
   ]
  },
  {
   "cell_type": "code",
   "execution_count": 44,
   "metadata": {},
   "outputs": [],
   "source": [
    "!mkdir ../input/validation/0\n",
    "!mkdir ../input/validation/1\n",
    "!mkdir ../input/validation/2\n",
    "!mkdir ../input/validation/3\n",
    "!mkdir ../input/validation/4"
   ]
  },
  {
   "cell_type": "code",
   "execution_count": 45,
   "metadata": {},
   "outputs": [],
   "source": [
    "for x in X_valid.values:\n",
    "    if x[1] == 0:\n",
    "        froom = '../input/validation/' + x[0] + '.jpeg'\n",
    "        too = '../input/validation/0/' + x[0] + '.jpeg'\n",
    "        !mv $froom $too\n",
    "    elif x[1] == 1:\n",
    "        froom = '../input/validation/' + x[0] + '.jpeg'\n",
    "        too = '../input/validation/1/' + x[0] + '.jpeg'\n",
    "        !mv $froom $too\n",
    "    elif x[1] == 2:\n",
    "        froom = '../input/validation/' + x[0] + '.jpeg'\n",
    "        too = '../input/validation/2/' + x[0] + '.jpeg'\n",
    "        !mv $froom $too\n",
    "    elif x[1] == 3:\n",
    "        froom = '../input/validation/' + x[0] + '.jpeg'\n",
    "        too = '../input/validation/3/' + x[0] + '.jpeg'\n",
    "        !mv $froom $too\n",
    "    else:\n",
    "        froom = '../input/validation/' + x[0] + '.jpeg'\n",
    "        too = '../input/validation/4/' + x[0] + '.jpeg'\n",
    "        !mv $froom $too"
   ]
  },
  {
   "cell_type": "markdown",
   "metadata": {},
   "source": [
    "# Data pre-processing and data augmentation"
   ]
  },
  {
   "cell_type": "code",
   "execution_count": 12,
   "metadata": {},
   "outputs": [],
   "source": [
    "datagen = ImageDataGenerator(\n",
    "    featurewise_center=True,\n",
    "    featurewise_std_normalization=True,\n",
    "    rotation_range=360,\n",
    "    width_shift_range=0.15,\n",
    "    horizontal_flip=True\n",
    ")"
   ]
  },
  {
   "cell_type": "code",
   "execution_count": 13,
   "metadata": {},
   "outputs": [],
   "source": [
    "H,W,C = 227,227,3"
   ]
  },
  {
   "cell_type": "code",
   "execution_count": 15,
   "metadata": {},
   "outputs": [],
   "source": [
    "img = Image.open('../input/train/0/100_right.jpeg')\n",
    "img = img.resize((H,W)).convert('RGB')\n",
    "img = np.array(img)\n",
    "img = img.reshape((1,)+(H,W,C))"
   ]
  },
  {
   "cell_type": "code",
   "execution_count": 16,
   "metadata": {},
   "outputs": [
    {
     "data": {
      "text/plain": [
       "(1, 227, 227, 3)"
      ]
     },
     "execution_count": 16,
     "metadata": {},
     "output_type": "execute_result"
    }
   ],
   "source": [
    "img.shape"
   ]
  },
  {
   "cell_type": "code",
   "execution_count": 17,
   "metadata": {},
   "outputs": [
    {
     "name": "stderr",
     "output_type": "stream",
     "text": [
      "/home/bekkasik/anaconda3/lib/python3.6/site-packages/keras_preprocessing/image.py:988: UserWarning: This ImageDataGenerator specifies `featurewise_center`, but it hasn't been fit on any training data. Fit it first by calling `.fit(numpy_data)`.\n",
      "  warnings.warn('This ImageDataGenerator specifies '\n",
      "/home/bekkasik/anaconda3/lib/python3.6/site-packages/keras_preprocessing/image.py:996: UserWarning: This ImageDataGenerator specifies `featurewise_std_normalization`, but it hasn't been fit on any training data. Fit it first by calling `.fit(numpy_data)`.\n",
      "  warnings.warn('This ImageDataGenerator specifies '\n"
     ]
    }
   ],
   "source": [
    "i = 0\n",
    "for batch in datagen.flow(img, batch_size=1,\n",
    "                          save_to_dir='../preview/', save_prefix='10_left', save_format='jpeg'):\n",
    "    i += 1\n",
    "    if i > 20:\n",
    "        break  # otherwise the generator would loop indefinitely"
   ]
  },
  {
   "cell_type": "code",
   "execution_count": 18,
   "metadata": {},
   "outputs": [
    {
     "data": {
      "text/plain": [
       "<matplotlib.image.AxesImage at 0x7efd53946f60>"
      ]
     },
     "execution_count": 18,
     "metadata": {},
     "output_type": "execute_result"
    },
    {
     "data": {
      "image/png": "[encoded data removed]",
      "text/plain": [
       "<Figure size 432x288 with 1 Axes>"
      ]
     },
     "metadata": {},
     "output_type": "display_data"
    }
   ],
   "source": [
    "plt.imshow(img[0])"
   ]
  },
  {
   "cell_type": "markdown",
   "metadata": {},
   "source": [
    "# AlexNet test"
   ]
  },
  {
   "cell_type": "code",
   "execution_count": 19,
   "metadata": {},
   "outputs": [
    {
     "name": "stdout",
     "output_type": "stream",
     "text": [
      "_________________________________________________________________\n",
      "Layer (type)                 Output Shape              Param #   \n",
      "=================================================================\n",
      "conv2d_1 (Conv2D)            (None, 55, 55, 96)        34944     \n",
      "_________________________________________________________________\n",
      "activation_1 (Activation)    (None, 55, 55, 96)        0         \n",
      "_________________________________________________________________\n",
      "max_pooling2d_1 (MaxPooling2 (None, 27, 27, 96)        0         \n",
      "_________________________________________________________________\n",
      "conv2d_2 (Conv2D)            (None, 17, 17, 256)       2973952   \n",
      "_________________________________________________________________\n",
      "activation_2 (Activation)    (None, 17, 17, 256)       0         \n",
      "_________________________________________________________________\n",
      "max_pooling2d_2 (MaxPooling2 (None, 8, 8, 256)         0         \n",
      "_________________________________________________________________\n",
      "conv2d_3 (Conv2D)            (None, 6, 6, 384)         885120    \n",
      "_________________________________________________________________\n",
      "activation_3 (Activation)    (None, 6, 6, 384)         0         \n",
      "_________________________________________________________________\n",
      "conv2d_4 (Conv2D)            (None, 4, 4, 384)         1327488   \n",
      "_________________________________________________________________\n",
      "activation_4 (Activation)    (None, 4, 4, 384)         0         \n",
      "_________________________________________________________________\n",
      "conv2d_5 (Conv2D)            (None, 2, 2, 256)         884992    \n",
      "_________________________________________________________________\n",
      "activation_5 (Activation)    (None, 2, 2, 256)         0         \n",
      "_________________________________________________________________\n",
      "max_pooling2d_3 (MaxPooling2 (None, 1, 1, 256)         0         \n",
      "_________________________________________________________________\n",
      "flatten_1 (Flatten)          (None, 256)               0         \n",
      "_________________________________________________________________\n",
      "dense_1 (Dense)              (None, 4096)              1052672   \n",
      "_________________________________________________________________\n",
      "activation_6 (Activation)    (None, 4096)              0         \n",
      "_________________________________________________________________\n",
      "dropout_1 (Dropout)          (None, 4096)              0         \n",
      "_________________________________________________________________\n",
      "dense_2 (Dense)              (None, 4096)              16781312  \n",
      "_________________________________________________________________\n",
      "activation_7 (Activation)    (None, 4096)              0         \n",
      "_________________________________________________________________\n",
      "dropout_2 (Dropout)          (None, 4096)              0         \n",
      "_________________________________________________________________\n",
      "dense_3 (Dense)              (None, 1000)              4097000   \n",
      "_________________________________________________________________\n",
      "activation_8 (Activation)    (None, 1000)              0         \n",
      "_________________________________________________________________\n",
      "dropout_3 (Dropout)          (None, 1000)              0         \n",
      "_________________________________________________________________\n",
      "dense_4 (Dense)              (None, 5)                 5005      \n",
      "_________________________________________________________________\n",
      "activation_9 (Activation)    (None, 5)                 0         \n",
      "=================================================================\n",
      "Total params: 28,042,485\n",
      "Trainable params: 28,042,485\n",
      "Non-trainable params: 0\n",
      "_________________________________________________________________\n"
     ]
    }
   ],
   "source": [
    "model = Sequential()\n",
    "\n",
    "#1st Conv layer\n",
    "model.add(Conv2D(filters = 96, kernel_size=(11,11), input_shape = (227,227,3), strides=(4,4),padding='valid'))\n",
    "model.add(Activation('relu'))\n",
    "model.add(MaxPooling2D(pool_size=(2,2),strides=(2,2),padding='valid'))\n",
    "\n",
    "#2nd Conv layer\n",
    "model.add(Conv2D(filters=256, kernel_size=(11,11),strides=(1,1),padding='valid'))\n",
    "model.add(Activation('relu'))\n",
    "model.add(MaxPooling2D(pool_size=(2,2),strides=(2,2),padding='valid'))\n",
    "\n",
    "#3rd Conv layer\n",
    "model.add(Conv2D(filters=384,kernel_size=(3,3),strides=(1,1),padding='valid'))\n",
    "model.add(Activation('relu'))\n",
    "\n",
    "#4th Conv layer\n",
    "model.add(Conv2D(filters=384,kernel_size=(3,3),strides=(1,1),padding='valid'))\n",
    "model.add(Activation('relu'))\n",
    "\n",
    "#5th Conv layer\n",
    "model.add(Conv2D(filters=256,kernel_size=(3,3),strides=(1,1),padding='valid'))\n",
    "model.add(Activation('relu'))\n",
    "model.add(MaxPooling2D(pool_size=(2,2),strides=(2,2),padding='valid'))\n",
    "\n",
    "#FC\n",
    "model.add(Flatten())\n",
    "#1st FC\n",
    "model.add(Dense(4096,input_shape=(227*227*3,)))\n",
    "model.add(Activation('relu'))\n",
    "model.add(Dropout(0,4))\n",
    "\n",
    "# 2nd FC\n",
    "model.add(Dense(4096))\n",
    "model.add(Activation('relu'))\n",
    "model.add(Dropout(0.4))\n",
    "\n",
    "# 3rd FC\n",
    "model.add(Dense(1000))\n",
    "model.add(Activation('relu'))\n",
    "model.add(Dropout(0.4))\n",
    "\n",
    "# Output Layer\n",
    "model.add(Dense(5))\n",
    "model.add(Activation('softmax'))\n",
    "\n",
    "model.summary()"
   ]
  },
  {
   "cell_type": "code",
   "execution_count": 20,
   "metadata": {},
   "outputs": [],
   "source": [
    "opt = SGD(lr=0.0005)\n",
    "model.compile(loss=keras.losses.categorical_crossentropy, optimizer=opt, metrics=['accuracy']) "
   ]
  },
  {
   "cell_type": "markdown",
   "metadata": {},
   "source": [
    "# Сбросились разделения, загружаем данные иначе"
   ]
  },
  {
   "cell_type": "markdown",
   "metadata": {},
   "source": [
    "### Let's prepare our data"
   ]
  },
  {
   "cell_type": "code",
   "execution_count": 21,
   "metadata": {},
   "outputs": [
    {
     "name": "stdout",
     "output_type": "stream",
     "text": [
      "Found 31613 images belonging to 5 classes.\n",
      "Found 3513 images belonging to 5 classes.\n"
     ]
    }
   ],
   "source": [
    "batch_size = 16\n",
    "train_datagen = ImageDataGenerator(\n",
    "    rescale=1./255,\n",
    "    rotation_range = 15,\n",
    "    width_shift_range = 0.15,\n",
    "    horizontal_flip = True\n",
    ")\n",
    "test_datagen = ImageDataGenerator(rescale=1./255)\n",
    "\n",
    "train_generator = train_datagen.flow_from_directory(\n",
    "    '../input/train/',\n",
    "    target_size=(H,W), \n",
    "    batch_size=batch_size,\n",
    "    class_mode='categorical'\n",
    ")\n",
    "\n",
    "validation_generator = test_datagen.flow_from_directory(\n",
    "    '../input/validation/',\n",
    "    target_size=(H,W), \n",
    "    batch_size=batch_size,\n",
    "    class_mode='categorical'    \n",
    ")"
   ]
  },
  {
   "cell_type": "code",
   "execution_count": 24,
   "metadata": {},
   "outputs": [],
   "source": [
    "checkpointer = ModelCheckpoint(monitor='val_acc',filepath='../Model/KerasVGG16BestWeights.hpf5', verbose=1, save_best_only=True)"
   ]
  },
  {
   "cell_type": "code",
   "execution_count": null,
   "metadata": {},
   "outputs": [
    {
     "name": "stdout",
     "output_type": "stream",
     "text": [
      "Epoch 1/15\n",
      "1390/1975 [====================>.........] - ETA: 18:45 - loss: 1.1609 - acc: 0.7323"
     ]
    }
   ],
   "source": [
    "model.fit_generator(\n",
    "    train_generator,\n",
    "    steps_per_epoch = 31_613//batch_size,\n",
    "    epochs = 15,\n",
    "    validation_data = validation_generator,\n",
    "    validation_steps = 3_513//batch_size,\n",
    "    callbacks = [checkpointer]    \n",
    ")\n",
    "model.save_weights('AlexNetFT.h5')"
   ]
  },
  {
   "cell_type": "code",
   "execution_count": null,
   "metadata": {},
   "outputs": [],
   "source": []
  }
 ],
 "metadata": {
  "kernelspec": {
   "display_name": "Python 3",
   "language": "python",
   "name": "python3"
  },
  "language_info": {
   "codemirror_mode": {
    "name": "ipython",
    "version": 3
   },
   "file_extension": ".py",
   "mimetype": "text/x-python",
   "name": "python",
   "nbconvert_exporter": "python",
   "pygments_lexer": "ipython3",
   "version": "3.6.5"
  }
 },
 "nbformat": 4,
 "nbformat_minor": 2
}
